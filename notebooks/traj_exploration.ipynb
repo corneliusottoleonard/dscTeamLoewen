{
 "cells": [
  {
   "cell_type": "code",
   "execution_count": 16,
   "metadata": {},
   "outputs": [],
   "source": [
    "# pip installmatplotlib ase notebook\n",
    "import matplotlib.pyplot as plt\n",
    "from matplotlib.animation import FuncAnimation\n",
    "from ase.io import read\n",
    "import os\n",
    "path = os.path.join(\"trajectories\\\\\")\n",
    "# Load the trajectory file (adjust the filename accordingly)\n",
    "with open(path+'postvis_dani.traj', 'r') as f:\n",
    "    trajectory = f.readlines()\n",
    "\n",
    "\n",
    "traj =  [i.split(\" \") for i in trajectory[1:-1]] \n",
    "   "
   ]
  },
  {
   "cell_type": "code",
   "execution_count": 17,
   "metadata": {},
   "outputs": [],
   "source": [
    "data_dict = {}\n",
    "for line in traj:\n",
    "    key = int(line[0])\n",
    "\n",
    "    if key in data_dict:\n",
    "        data_dict[key].append([float(i) for i in line[1:-1]])\n",
    "    else:\n",
    "        data_dict[key] = [[float(i) for i in line[1:-1]]]"
   ]
  },
  {
   "cell_type": "code",
   "execution_count": 18,
   "metadata": {},
   "outputs": [
    {
     "name": "stderr",
     "output_type": "stream",
     "text": [
      "MovieWriter ffmpeg unavailable; using Pillow instead.\n"
     ]
    },
    {
     "data": {
      "image/png": "[encoded data removed]",
      "text/plain": [
       "<Figure size 640x480 with 1 Axes>"
      ]
     },
     "metadata": {},
     "output_type": "display_data"
    }
   ],
   "source": [
    "\n",
    "fig, ax = plt.subplots()\n",
    "max_frame = max([len(i) for i in data_dict.values()])\n",
    "def update(frame):\n",
    "        ax.clear()\n",
    "        for agent in data_dict.keys():\n",
    "            \n",
    "            if len(data_dict[agent]) > frame:\n",
    "                # Plot the atoms\n",
    "                ax.scatter(data_dict[agent][frame][2], data_dict[agent][frame][3], c='b', marker='o')\n",
    "\n",
    "                # Set plot limits (adjust as needed)\n",
    "                ax.set_xlim(-5, 22)\n",
    "                ax.set_ylim(-5, 22)\n",
    "\n",
    "                # Set plot title\n",
    "                ax.set_title(f'Frame {frame}/{max_frame}')\n",
    "            \n",
    "\n",
    "\n",
    "\n",
    "# Create the animation\n",
    "animation = FuncAnimation(fig, update, frames=max_frame, interval=150, repeat=False).save(\"animation.gif\")\n",
    "plt.show()"
   ]
  }
 ],
 "metadata": {
  "kernelspec": {
   "display_name": "venv",
   "language": "python",
   "name": "python3"
  },
  "language_info": {
   "codemirror_mode": {
    "name": "ipython",
    "version": 3
   },
   "file_extension": ".py",
   "mimetype": "text/x-python",
   "name": "python",
   "nbconvert_exporter": "python",
   "pygments_lexer": "ipython3",
   "version": "3.11.6"
  }
 },
 "nbformat": 4,
 "nbformat_minor": 2
}
